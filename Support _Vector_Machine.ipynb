{
 "cells": [
  {
   "cell_type": "markdown",
   "metadata": {},
   "source": [
    " # Unsupervised Analysis of a Movie Ratings Dataset Using Matrix Factorization\n",
    "\n",
    "\n",
    "In this project, we will use two different matrix factorization techniques:\n",
    "\n",
    "- Singular Value Decomposition (SVD)\n",
    "\n",
    "- Non-negative Matrix Factorization (NMF)"
   ]
  },
  {
   "cell_type": "markdown",
   "metadata": {},
   "source": [
    "## Loading the data \n"
   ]
  },
  {
   "cell_type": "code",
   "execution_count": 71,
   "metadata": {},
   "outputs": [
    {
     "data": {
      "text/html": [
       "<div>\n",
       "<style scoped>\n",
       "    .dataframe tbody tr th:only-of-type {\n",
       "        vertical-align: middle;\n",
       "    }\n",
       "\n",
       "    .dataframe tbody tr th {\n",
       "        vertical-align: top;\n",
       "    }\n",
       "\n",
       "    .dataframe thead th {\n",
       "        text-align: right;\n",
       "    }\n",
       "</style>\n",
       "<table border=\"1\" class=\"dataframe\">\n",
       "  <thead>\n",
       "    <tr style=\"text-align: right;\">\n",
       "      <th></th>\n",
       "      <th>userId</th>\n",
       "      <th>movieId</th>\n",
       "      <th>rating</th>\n",
       "      <th>timestamp</th>\n",
       "    </tr>\n",
       "  </thead>\n",
       "  <tbody>\n",
       "    <tr>\n",
       "      <th>100831</th>\n",
       "      <td>610</td>\n",
       "      <td>166534</td>\n",
       "      <td>4.0</td>\n",
       "      <td>1493848402</td>\n",
       "    </tr>\n",
       "    <tr>\n",
       "      <th>100832</th>\n",
       "      <td>610</td>\n",
       "      <td>168248</td>\n",
       "      <td>5.0</td>\n",
       "      <td>1493850091</td>\n",
       "    </tr>\n",
       "    <tr>\n",
       "      <th>100833</th>\n",
       "      <td>610</td>\n",
       "      <td>168250</td>\n",
       "      <td>5.0</td>\n",
       "      <td>1494273047</td>\n",
       "    </tr>\n",
       "    <tr>\n",
       "      <th>100834</th>\n",
       "      <td>610</td>\n",
       "      <td>168252</td>\n",
       "      <td>5.0</td>\n",
       "      <td>1493846352</td>\n",
       "    </tr>\n",
       "    <tr>\n",
       "      <th>100835</th>\n",
       "      <td>610</td>\n",
       "      <td>170875</td>\n",
       "      <td>3.0</td>\n",
       "      <td>1493846415</td>\n",
       "    </tr>\n",
       "  </tbody>\n",
       "</table>\n",
       "</div>"
      ],
      "text/plain": [
       "        userId  movieId  rating   timestamp\n",
       "100831     610   166534     4.0  1493848402\n",
       "100832     610   168248     5.0  1493850091\n",
       "100833     610   168250     5.0  1494273047\n",
       "100834     610   168252     5.0  1493846352\n",
       "100835     610   170875     3.0  1493846415"
      ]
     },
     "execution_count": 71,
     "metadata": {},
     "output_type": "execute_result"
    }
   ],
   "source": [
    "import numpy as np\n",
    "import pandas as pd\n",
    "import matplotlib.pyplot as plt\n",
    "from sklearn.decomposition import NMF\n",
    "import warnings\n",
    "warnings.filterwarnings('ignore')\n",
    "\n",
    "\n",
    "data = pd.read_csv('ml-latest-small/ratings.csv')\n",
    "movies = pd.read_csv('ml-latest-small/movies.csv')\n",
    "data.tail()\n"
   ]
  },
  {
   "cell_type": "code",
   "execution_count": 72,
   "metadata": {},
   "outputs": [
    {
     "data": {
      "text/html": [
       "<div>\n",
       "<style scoped>\n",
       "    .dataframe tbody tr th:only-of-type {\n",
       "        vertical-align: middle;\n",
       "    }\n",
       "\n",
       "    .dataframe tbody tr th {\n",
       "        vertical-align: top;\n",
       "    }\n",
       "\n",
       "    .dataframe thead th {\n",
       "        text-align: right;\n",
       "    }\n",
       "</style>\n",
       "<table border=\"1\" class=\"dataframe\">\n",
       "  <thead>\n",
       "    <tr style=\"text-align: right;\">\n",
       "      <th></th>\n",
       "      <th>movieId</th>\n",
       "      <th>title</th>\n",
       "      <th>genres</th>\n",
       "    </tr>\n",
       "  </thead>\n",
       "  <tbody>\n",
       "    <tr>\n",
       "      <th>9737</th>\n",
       "      <td>193581</td>\n",
       "      <td>Black Butler: Book of the Atlantic (2017)</td>\n",
       "      <td>Action|Animation|Comedy|Fantasy</td>\n",
       "    </tr>\n",
       "    <tr>\n",
       "      <th>9738</th>\n",
       "      <td>193583</td>\n",
       "      <td>No Game No Life: Zero (2017)</td>\n",
       "      <td>Animation|Comedy|Fantasy</td>\n",
       "    </tr>\n",
       "    <tr>\n",
       "      <th>9739</th>\n",
       "      <td>193585</td>\n",
       "      <td>Flint (2017)</td>\n",
       "      <td>Drama</td>\n",
       "    </tr>\n",
       "    <tr>\n",
       "      <th>9740</th>\n",
       "      <td>193587</td>\n",
       "      <td>Bungo Stray Dogs: Dead Apple (2018)</td>\n",
       "      <td>Action|Animation</td>\n",
       "    </tr>\n",
       "    <tr>\n",
       "      <th>9741</th>\n",
       "      <td>193609</td>\n",
       "      <td>Andrew Dice Clay: Dice Rules (1991)</td>\n",
       "      <td>Comedy</td>\n",
       "    </tr>\n",
       "  </tbody>\n",
       "</table>\n",
       "</div>"
      ],
      "text/plain": [
       "      movieId                                      title  \\\n",
       "9737   193581  Black Butler: Book of the Atlantic (2017)   \n",
       "9738   193583               No Game No Life: Zero (2017)   \n",
       "9739   193585                               Flint (2017)   \n",
       "9740   193587        Bungo Stray Dogs: Dead Apple (2018)   \n",
       "9741   193609        Andrew Dice Clay: Dice Rules (1991)   \n",
       "\n",
       "                               genres  \n",
       "9737  Action|Animation|Comedy|Fantasy  \n",
       "9738         Animation|Comedy|Fantasy  \n",
       "9739                            Drama  \n",
       "9740                 Action|Animation  \n",
       "9741                           Comedy  "
      ]
     },
     "execution_count": 72,
     "metadata": {},
     "output_type": "execute_result"
    }
   ],
   "source": [
    "movies.tail()"
   ]
  },
  {
   "cell_type": "markdown",
   "metadata": {},
   "source": [
    "## Forming the matrix \n",
    "\n",
    "There are a couple of caveats to be aware of here:\n",
    "- The movieId column in the data refers to a general movieId in the large MovieLens dataset. Since we are working with the smaller dataset here, we do not have all movieId's present. Thus, you should be able to make sure that a certain movieId maps to an increasing row number of your matrix and you keep track of that mapping\n",
    "- The userId column, since user information is not present, can be treated as a unique user ID.\n",
    "- If for some reason Pandas is not able to load all the rows of the ratings.csv in memory, please form a matrix with as many ratings as you are able to load."
   ]
  },
  {
   "cell_type": "code",
   "execution_count": 73,
   "metadata": {},
   "outputs": [
    {
     "data": {
      "text/html": [
       "<div>\n",
       "<style scoped>\n",
       "    .dataframe tbody tr th:only-of-type {\n",
       "        vertical-align: middle;\n",
       "    }\n",
       "\n",
       "    .dataframe tbody tr th {\n",
       "        vertical-align: top;\n",
       "    }\n",
       "\n",
       "    .dataframe thead th {\n",
       "        text-align: right;\n",
       "    }\n",
       "</style>\n",
       "<table border=\"1\" class=\"dataframe\">\n",
       "  <thead>\n",
       "    <tr style=\"text-align: right;\">\n",
       "      <th></th>\n",
       "      <th>userId</th>\n",
       "      <th>movieId</th>\n",
       "      <th>rating</th>\n",
       "      <th>timestamp</th>\n",
       "      <th>title</th>\n",
       "      <th>genres</th>\n",
       "    </tr>\n",
       "  </thead>\n",
       "  <tbody>\n",
       "    <tr>\n",
       "      <th>0</th>\n",
       "      <td>1</td>\n",
       "      <td>1</td>\n",
       "      <td>4.0</td>\n",
       "      <td>964982703</td>\n",
       "      <td>Toy Story (1995)</td>\n",
       "      <td>Adventure|Animation|Children|Comedy|Fantasy</td>\n",
       "    </tr>\n",
       "    <tr>\n",
       "      <th>1</th>\n",
       "      <td>1</td>\n",
       "      <td>3</td>\n",
       "      <td>4.0</td>\n",
       "      <td>964981247</td>\n",
       "      <td>Grumpier Old Men (1995)</td>\n",
       "      <td>Comedy|Romance</td>\n",
       "    </tr>\n",
       "    <tr>\n",
       "      <th>2</th>\n",
       "      <td>1</td>\n",
       "      <td>6</td>\n",
       "      <td>4.0</td>\n",
       "      <td>964982224</td>\n",
       "      <td>Heat (1995)</td>\n",
       "      <td>Action|Crime|Thriller</td>\n",
       "    </tr>\n",
       "    <tr>\n",
       "      <th>3</th>\n",
       "      <td>1</td>\n",
       "      <td>47</td>\n",
       "      <td>5.0</td>\n",
       "      <td>964983815</td>\n",
       "      <td>Seven (a.k.a. Se7en) (1995)</td>\n",
       "      <td>Mystery|Thriller</td>\n",
       "    </tr>\n",
       "    <tr>\n",
       "      <th>4</th>\n",
       "      <td>1</td>\n",
       "      <td>50</td>\n",
       "      <td>5.0</td>\n",
       "      <td>964982931</td>\n",
       "      <td>Usual Suspects, The (1995)</td>\n",
       "      <td>Crime|Mystery|Thriller</td>\n",
       "    </tr>\n",
       "  </tbody>\n",
       "</table>\n",
       "</div>"
      ],
      "text/plain": [
       "   userId  movieId  rating  timestamp                        title  \\\n",
       "0       1        1     4.0  964982703             Toy Story (1995)   \n",
       "1       1        3     4.0  964981247      Grumpier Old Men (1995)   \n",
       "2       1        6     4.0  964982224                  Heat (1995)   \n",
       "3       1       47     5.0  964983815  Seven (a.k.a. Se7en) (1995)   \n",
       "4       1       50     5.0  964982931   Usual Suspects, The (1995)   \n",
       "\n",
       "                                        genres  \n",
       "0  Adventure|Animation|Children|Comedy|Fantasy  \n",
       "1                               Comedy|Romance  \n",
       "2                        Action|Crime|Thriller  \n",
       "3                             Mystery|Thriller  \n",
       "4                       Crime|Mystery|Thriller  "
      ]
     },
     "execution_count": 73,
     "metadata": {},
     "output_type": "execute_result"
    }
   ],
   "source": [
    "merged_data = data.merge(movies, on='movieId', how='left') # combine the two dataframes\n",
    "\n",
    "merged_data.head()"
   ]
  },
  {
   "cell_type": "code",
   "execution_count": 74,
   "metadata": {},
   "outputs": [
    {
     "data": {
      "text/html": [
       "<div>\n",
       "<style scoped>\n",
       "    .dataframe tbody tr th:only-of-type {\n",
       "        vertical-align: middle;\n",
       "    }\n",
       "\n",
       "    .dataframe tbody tr th {\n",
       "        vertical-align: top;\n",
       "    }\n",
       "\n",
       "    .dataframe thead th {\n",
       "        text-align: right;\n",
       "    }\n",
       "</style>\n",
       "<table border=\"1\" class=\"dataframe\">\n",
       "  <thead>\n",
       "    <tr style=\"text-align: right;\">\n",
       "      <th></th>\n",
       "      <th>userId</th>\n",
       "      <th>movieId</th>\n",
       "      <th>rating</th>\n",
       "      <th>timestamp</th>\n",
       "      <th>title</th>\n",
       "      <th>genres</th>\n",
       "      <th>movieIndex</th>\n",
       "    </tr>\n",
       "  </thead>\n",
       "  <tbody>\n",
       "    <tr>\n",
       "      <th>0</th>\n",
       "      <td>1</td>\n",
       "      <td>1</td>\n",
       "      <td>4.0</td>\n",
       "      <td>964982703</td>\n",
       "      <td>Toy Story (1995)</td>\n",
       "      <td>Adventure|Animation|Children|Comedy|Fantasy</td>\n",
       "      <td>0</td>\n",
       "    </tr>\n",
       "    <tr>\n",
       "      <th>1</th>\n",
       "      <td>1</td>\n",
       "      <td>3</td>\n",
       "      <td>4.0</td>\n",
       "      <td>964981247</td>\n",
       "      <td>Grumpier Old Men (1995)</td>\n",
       "      <td>Comedy|Romance</td>\n",
       "      <td>1</td>\n",
       "    </tr>\n",
       "    <tr>\n",
       "      <th>2</th>\n",
       "      <td>1</td>\n",
       "      <td>6</td>\n",
       "      <td>4.0</td>\n",
       "      <td>964982224</td>\n",
       "      <td>Heat (1995)</td>\n",
       "      <td>Action|Crime|Thriller</td>\n",
       "      <td>2</td>\n",
       "    </tr>\n",
       "    <tr>\n",
       "      <th>3</th>\n",
       "      <td>1</td>\n",
       "      <td>47</td>\n",
       "      <td>5.0</td>\n",
       "      <td>964983815</td>\n",
       "      <td>Seven (a.k.a. Se7en) (1995)</td>\n",
       "      <td>Mystery|Thriller</td>\n",
       "      <td>3</td>\n",
       "    </tr>\n",
       "    <tr>\n",
       "      <th>4</th>\n",
       "      <td>1</td>\n",
       "      <td>50</td>\n",
       "      <td>5.0</td>\n",
       "      <td>964982931</td>\n",
       "      <td>Usual Suspects, The (1995)</td>\n",
       "      <td>Crime|Mystery|Thriller</td>\n",
       "      <td>4</td>\n",
       "    </tr>\n",
       "  </tbody>\n",
       "</table>\n",
       "</div>"
      ],
      "text/plain": [
       "   userId  movieId  rating  timestamp                        title  \\\n",
       "0       1        1     4.0  964982703             Toy Story (1995)   \n",
       "1       1        3     4.0  964981247      Grumpier Old Men (1995)   \n",
       "2       1        6     4.0  964982224                  Heat (1995)   \n",
       "3       1       47     5.0  964983815  Seven (a.k.a. Se7en) (1995)   \n",
       "4       1       50     5.0  964982931   Usual Suspects, The (1995)   \n",
       "\n",
       "                                        genres  movieIndex  \n",
       "0  Adventure|Animation|Children|Comedy|Fantasy           0  \n",
       "1                               Comedy|Romance           1  \n",
       "2                        Action|Crime|Thriller           2  \n",
       "3                             Mystery|Thriller           3  \n",
       "4                       Crime|Mystery|Thriller           4  "
      ]
     },
     "execution_count": 74,
     "metadata": {},
     "output_type": "execute_result"
    }
   ],
   "source": [
    "# a dictionary keys = movie IDs  and the values are the corresponding indices assigned by the `enumerate` function.\n",
    "movie_mapping = {movie_id: index for index, movie_id in enumerate(merged_data['movieId'].unique())}\n",
    "#print (movie_mapping)\n",
    "merged_data['movieIndex'] = merged_data['movieId'].map(movie_mapping)\n",
    "#print (merged_data)\n",
    "num_movies = len(movie_mapping)\n",
    "num_users = merged_data['userId'].nunique()\n",
    "merged_data.head()\n"
   ]
  },
  {
   "cell_type": "code",
   "execution_count": 75,
   "metadata": {},
   "outputs": [
    {
     "name": "stdout",
     "output_type": "stream",
     "text": [
      "[[4.  0.  0.  ... 2.5 3.  5. ]\n",
      " [4.  0.  0.  ... 2.  0.  0. ]\n",
      " [4.  0.  0.  ... 0.  0.  5. ]\n",
      " ...\n",
      " [0.  0.  0.  ... 0.  0.  3. ]\n",
      " [0.  0.  0.  ... 0.  0.  3.5]\n",
      " [0.  0.  0.  ... 0.  0.  3.5]]\n"
     ]
    }
   ],
   "source": [
    "movie_user_matrix = np.zeros((num_movies, num_users))\n",
    "\n",
    "for row in merged_data.itertuples():\n",
    "    movie_index = row.movieIndex\n",
    "    user_id = row.userId\n",
    "    rating = row.rating\n",
    "    movie_user_matrix[movie_index, user_id - 1] = rating\n",
    "\n",
    " \n",
    "#print(movie_user_matrix.shape)\n",
    "print(movie_user_matrix)"
   ]
  },
  {
   "cell_type": "markdown",
   "metadata": {},
   "source": [
    "## Running and inspecting the SVD \n",
    "\n",
    "After running the SVD, plot in a semi-logarithmic scale (where the y-axis is in log scale and the x-axis is in linear scale) the singular values of the matrix. What do you observe?\n"
   ]
  },
  {
   "cell_type": "code",
   "execution_count": 76,
   "metadata": {
    "scrolled": true
   },
   "outputs": [
    {
     "name": "stdout",
     "output_type": "stream",
     "text": [
      "(610,)\n"
     ]
    },
    {
     "data": {
      "image/png": "[encoded data removed]",
      "text/plain": [
       "<Figure size 432x288 with 1 Axes>"
      ]
     },
     "metadata": {
      "needs_background": "light"
     },
     "output_type": "display_data"
    }
   ],
   "source": [
    "U, S, V = np.linalg.svd(movie_user_matrix)\n",
    "print(S.shape)\n",
    "# n = len(S)\n",
    "# diagonal_matrix = np.zeros((n, n))\n",
    "# np.fill_diagonal(diagonal_matrix, S)\n",
    "#print(S)\n",
    "# Plot the singular values in a semi-log scale\n",
    "plt.figure()\n",
    "plt.semilogy(S, marker='o')\n",
    "plt.xlabel('Singular Value Index')\n",
    "plt.ylabel('Singular Value (Log Scale)')\n",
    "plt.title('Singular Values in Semi-Logarithmic Scale')\n",
    "plt.grid(True)\n",
    "plt.show()\n",
    "# print(U.shape)\n",
    "# print(V.shape)"
   ]
  },
  {
   "cell_type": "markdown",
   "metadata": {
    "tags": []
   },
   "source": [
    "Your answer here:"
   ]
  },
  {
   "cell_type": "raw",
   "metadata": {},
   "source": [
    "The plot clearly indicates a rapid decline in singular values, with a sharp drop observed after the first singular value (from 534 to 231). Additionally, we have identified that there are 610 non-zero singular values in total, indicating that the matrix has a rank of 610; However, the importance of the features is diminishing rapidly."
   ]
  },
  {
   "cell_type": "markdown",
   "metadata": {},
   "source": [
    "## Inspecting the latent concepts\n"
   ]
  },
  {
   "cell_type": "code",
   "execution_count": 77,
   "metadata": {
    "scrolled": true
   },
   "outputs": [],
   "source": [
    "def print_concepts(U, num_of_concepts, top_mov):\n",
    "    for j in range(num_of_concepts):\n",
    "        concept_values = np.abs(U[:, j])  # Taking the absolute value of the membership vector\n",
    "        \n",
    "        top_indices = np.argsort(concept_values)[::-1][:top_mov]\n",
    "        \n",
    "        print(f\"Concept {j+1}:\")\n",
    "        for i, idx in enumerate(top_indices):\n",
    "            movie_genre = merged_data.loc[merged_data['movieIndex'] == idx,\"genres\"].iloc[0]             \n",
    "            movie_title = merged_data.loc[merged_data['movieIndex'] == idx, \"title\"].iloc[0]\n",
    "            print(f\"Top {i+1} movie: {movie_title} ({movie_genre}), Value: {concept_values[idx]}\")\n",
    "        \n",
    "        print(\"\")\n"
   ]
  },
  {
   "cell_type": "code",
   "execution_count": 78,
   "metadata": {},
   "outputs": [
    {
     "name": "stdout",
     "output_type": "stream",
     "text": [
      "Concept 1:\n",
      "Top 1 movie: Forrest Gump (1994) (Comedy|Drama|Romance|War), Value: 0.1003673522259191\n",
      "Top 2 movie: Pulp Fiction (1994) (Comedy|Crime|Drama|Thriller), Value: 0.09832412909392842\n",
      "Top 3 movie: Matrix, The (1999) (Action|Sci-Fi|Thriller), Value: 0.09712841613995891\n",
      "\n",
      "Concept 2:\n",
      "Top 1 movie: Inception (2010) (Action|Crime|Drama|Mystery|Sci-Fi|Thriller|IMAX), Value: 0.09779012715898305\n",
      "Top 2 movie: Dark Knight, The (2008) (Action|Crime|Drama|IMAX), Value: 0.0959916690202167\n",
      "Top 3 movie: Up (2009) (Adventure|Animation|Children|Drama), Value: 0.07915387463405052\n",
      "\n",
      "Concept 3:\n",
      "Top 1 movie: Forrest Gump (1994) (Comedy|Drama|Romance|War), Value: 0.16451992041382732\n",
      "Top 2 movie: Braveheart (1995) (Action|Drama|War), Value: 0.15159050439147906\n",
      "Top 3 movie: Shawshank Redemption, The (1994) (Crime|Drama), Value: 0.1500739257891691\n",
      "\n",
      "Concept 4:\n",
      "Top 1 movie: Fight Club (1999) (Action|Crime|Drama|Thriller), Value: 0.13626938704546768\n",
      "Top 2 movie: Matrix, The (1999) (Action|Sci-Fi|Thriller), Value: 0.12968308446170818\n",
      "Top 3 movie: Shawshank Redemption, The (1994) (Crime|Drama), Value: 0.1287793201521965\n",
      "\n",
      "Concept 5:\n",
      "Top 1 movie: Aliens (1986) (Action|Adventure|Horror|Sci-Fi), Value: 0.09578192311618534\n",
      "Top 2 movie: Star Wars: Episode V - The Empire Strikes Back (1980) (Action|Adventure|Sci-Fi), Value: 0.09073942665325242\n",
      "Top 3 movie: Terminator, The (1984) (Action|Sci-Fi|Thriller), Value: 0.08282654088352133\n",
      "\n"
     ]
    }
   ],
   "source": [
    "num_of_concepts = 5\n",
    "top_mov = 3\n",
    "print_concepts(U, num_of_concepts, top_mov)"
   ]
  },
  {
   "cell_type": "raw",
   "metadata": {},
   "source": [
    "The latent concepts exhibit coherence based on the membership values. For example, when we examine the membership values of the first concept, we see a descending order that highlights the top-k movies within that concept. Similarly, in the second concept, each column shows descending values, suggesting a prioritization of significant data from left to right. Moreover, the genre categorization is coherent too among all concepts"
   ]
  },
  {
   "cell_type": "markdown",
   "metadata": {},
   "source": [
    "## Implementing NMF and inspecting the latent concepts\n"
   ]
  },
  {
   "cell_type": "code",
   "execution_count": 79,
   "metadata": {},
   "outputs": [],
   "source": [
    "\n",
    "\n",
    "def nonnegative_matrix_factorization(X, R, init=1,max_iter=100):\n",
    "    if init==1:\n",
    "        U, S, V = np.linalg.svd(X, full_matrices=False)\n",
    "        W = np.abs(U[:, :R])\n",
    "        H = np.abs(np.dot(np.diag(S[:R]), V[:R, :]))\n",
    "    elif init ==0:\n",
    "        I, J = X.shape\n",
    "        W = np.random.rand(I, R)\n",
    "        H = np.random.rand(R, J)\n",
    "    all_err = []\n",
    "    \n",
    "    for iter in range(max_iter):\n",
    "        # Update H\n",
    "        #H = np.maximum(0, H * np.dot(W.T, X) / (np.dot(np.dot(W.T, W), H) + 1e-9))\n",
    "        H =  H * np.dot(W.T, X) / np.dot(np.dot(W.T, W), H)\n",
    "        \n",
    "        # Update W\n",
    "        W = W * np.dot(X, H.T) / np.dot(W, np.dot(H, H.T)) \n",
    "        \n",
    "        # Calculate Frobenius norm error\n",
    "        err = np.linalg.norm(X - np.dot(W, H),  ord='fro')\n",
    "        \n",
    "        all_err.append(err)\n",
    "        \n",
    "        # if iter % 10 == 0:\n",
    "        #     print(\"Iteration {}: Frobenius norm error = {:.4f}\".format(iter, err))\n",
    "    \n",
    "    return W, H, all_err"
   ]
  },
  {
   "cell_type": "code",
   "execution_count": 80,
   "metadata": {},
   "outputs": [
    {
     "data": {
      "image/png": "[encoded data removed]",
      "text/plain": [
       "<Figure size 432x288 with 1 Axes>"
      ]
     },
     "metadata": {
      "needs_background": "light"
     },
     "output_type": "display_data"
    }
   ],
   "source": [
    "# Define the maximum rank to test\n",
    "max_rank = 10\n",
    "\n",
    "# Prepare data matrix X (replace this with your actual data)\n",
    "X = np.random.rand(100, 50)\n",
    "\n",
    "# Run NMF for different ranks\n",
    "errors = []\n",
    "for rank in range(1, max_rank + 1):\n",
    "    #W, H, error = nonnegative_matrix_factorization(X, rank, init=1, max_iter=100)\n",
    "    W, H, error = nonnegative_matrix_factorization(X, rank,1 , max_iter=100)\n",
    "    errors.append(error)\n",
    "\n",
    "# Plot the errors per iteration for each rank\n",
    "plt.figure()\n",
    "for i, error in enumerate(errors):\n",
    "    plt.plot(range(len(error)), error, label=f'Rank {i+1}')\n",
    "plt.xlabel('Iteration')\n",
    "plt.ylabel('Error')\n",
    "plt.legend()\n",
    "plt.title('Error per iteration for different ranks in NMF')\n",
    "plt.show()"
   ]
  },
  {
   "cell_type": "raw",
   "metadata": {},
   "source": [
    "Increasing ranks helps error to converges fast for the same number of iterations."
   ]
  },
  {
   "cell_type": "code",
   "execution_count": 81,
   "metadata": {},
   "outputs": [
    {
     "data": {
      "image/png": "[encoded data removed]",
      "text/plain": [
       "<Figure size 432x288 with 1 Axes>"
      ]
     },
     "metadata": {
      "needs_background": "light"
     },
     "output_type": "display_data"
    }
   ],
   "source": [
    "\n",
    "\n",
    "\n",
    "errors_custom = []\n",
    "\n",
    "for rank in range(1, 51):\n",
    "    #W_custom, H_custom, all_err = nonnegative_matrix_factorization(X, rank, 1, 100)\n",
    "    W_custom, H_custom, all_err = nonnegative_matrix_factorization(X, rank, 1,  200)\n",
    "    #error_custom = all_err  # Extract the error for the specific rank\n",
    "    errors_custom.append(np.mean(all_err))\n",
    "\n",
    "errors_sklearn = []  # Store errors for Sklearn NMF (for comparison)\n",
    "\n",
    "for rank in range(1, 51):\n",
    "    # Sklearn NMF\n",
    "    #nmf = NMF(n_components=rank, max_iter=100, random_state=42)\n",
    " \n",
    "    nmf = NMF(n_components=rank,  max_iter=200 , solver='mu', beta_loss='frobenius')\n",
    "    \n",
    "    \n",
    "    W_sklearn = nmf.fit_transform(X)\n",
    "    H_sklearn = nmf.components_\n",
    "    X_pred_sklearn = np.dot(W_sklearn, H_sklearn)\n",
    "    error_sklearn = np.linalg.norm(X - X_pred_sklearn, ord='fro')  # Frobenius norm\n",
    "    errors_sklearn.append(error_sklearn)\n",
    "\n",
    "# Plotting error vs. rank\n",
    "plt.figure()\n",
    "plt.yscale('log')\n",
    "plt.semilogy(range(1, 51), errors_custom, label='Custom NMF', marker='o')\n",
    "plt.semilogy(range(1, 51), errors_sklearn, label='Sklearn NMF', marker='x')\n",
    "\n",
    "plt.xlabel('Rank (R)')\n",
    "plt.ylabel('Reconstruction Error')\n",
    "plt.title('Reconstruction Error vs. Rank for Custom vs. Sklearn NMF')\n",
    "plt.legend()\n",
    "plt.grid()\n",
    "plt.show()"
   ]
  },
  {
   "cell_type": "raw",
   "metadata": {},
   "source": [
    "In both implementations, the error becomes nearly identical when I increase the number of iterations to 200 instead of 100."
   ]
  },
  {
   "cell_type": "markdown",
   "metadata": {},
   "source": [
    "### Inspecting NMF latent concepts \n",
    "\n",
    "Use the \"print_concepts\" function as above with the same number of concepts and top movies per concept.\n",
    "\n",
    "Do you observe more, less, or about the same coherence?"
   ]
  },
  {
   "cell_type": "code",
   "execution_count": 82,
   "metadata": {},
   "outputs": [
    {
     "name": "stdout",
     "output_type": "stream",
     "text": [
      "NMF latent concepts - the W and H are SVD generated \n",
      "Concept 1:\n",
      "Top 1 movie: Fifth Element, The (1997) (Action|Adventure|Comedy|Sci-Fi), Value: 0.15587112526396837\n",
      "Top 2 movie: Bourne Identity, The (2002) (Action|Mystery|Thriller), Value: 0.1552991840974782\n",
      "Top 3 movie: Star Wars: Episode VI - Return of the Jedi (1983) (Action|Adventure|Sci-Fi), Value: 0.15481075151033502\n",
      "\n",
      "Concept 2:\n",
      "Top 1 movie: Avengers, The (2012) (Action|Adventure|Sci-Fi|IMAX), Value: 0.2934459879583534\n",
      "Top 2 movie: Dark Knight, The (2008) (Action|Crime|Drama|IMAX), Value: 0.2932896200886409\n",
      "Top 3 movie: Up (2009) (Adventure|Animation|Children|Drama), Value: 0.281086141474868\n",
      "\n",
      "Concept 3:\n",
      "Top 1 movie: Fugitive, The (1993) (Thriller), Value: 0.4006927394411367\n",
      "Top 2 movie: Forrest Gump (1994) (Comedy|Drama|Romance|War), Value: 0.389568308297815\n",
      "Top 3 movie: Apollo 13 (1995) (Adventure|Drama|IMAX), Value: 0.3891588347509451\n",
      "\n",
      "Concept 4:\n",
      "Top 1 movie: Shawshank Redemption, The (1994) (Crime|Drama), Value: 0.5515529139813841\n",
      "Top 2 movie: Pulp Fiction (1994) (Comedy|Crime|Drama|Thriller), Value: 0.543195570708653\n",
      "Top 3 movie: Fight Club (1999) (Action|Crime|Drama|Thriller), Value: 0.5320639145207009\n",
      "\n",
      "Concept 5:\n",
      "Top 1 movie: Aliens (1986) (Action|Adventure|Horror|Sci-Fi), Value: 0.35116279286797036\n",
      "Top 2 movie: Terminator, The (1984) (Action|Sci-Fi|Thriller), Value: 0.33627436242767356\n",
      "Top 3 movie: Terminator 2: Judgment Day (1991) (Action|Sci-Fi), Value: 0.32256458930538207\n",
      "\n",
      "********************************************************************************\n",
      "********************************************************************************\n",
      "NMF latent concepts - the W and H are randomly generated \n",
      "Concept 1:\n",
      "Top 1 movie: Philadelphia Story, The (1940) (Comedy|Drama|Romance), Value: 10.537915992454469\n",
      "Top 2 movie: West Side Story (1961) (Drama|Musical|Romance), Value: 10.531041291186561\n",
      "Top 3 movie: My Fair Lady (1964) (Comedy|Drama|Musical|Romance), Value: 10.490233164522426\n",
      "\n",
      "Concept 2:\n",
      "Top 1 movie: Aladdin (1992) (Adventure|Animation|Children|Comedy|Musical), Value: 14.914517462378326\n",
      "Top 2 movie: Lion King, The (1994) (Adventure|Animation|Children|Drama|Musical|IMAX), Value: 14.275865268267559\n",
      "Top 3 movie: Toy Story 2 (1999) (Adventure|Animation|Children|Comedy|Fantasy), Value: 14.139436226605044\n",
      "\n",
      "Concept 3:\n",
      "Top 1 movie: Brazil (1985) (Fantasy|Sci-Fi), Value: 21.709542583474832\n",
      "Top 2 movie: Psycho (1960) (Crime|Horror), Value: 20.54071880893633\n",
      "Top 3 movie: Road Warrior, The (Mad Max 2) (1981) (Action|Adventure|Sci-Fi|Thriller), Value: 20.5179059922928\n",
      "\n",
      "Concept 4:\n",
      "Top 1 movie: Dark City (1998) (Adventure|Film-Noir|Sci-Fi|Thriller), Value: 13.267662584243896\n",
      "Top 2 movie: Blade II (2002) (Action|Horror|Thriller), Value: 13.038147589900413\n",
      "Top 3 movie: Unbreakable (2000) (Drama|Sci-Fi), Value: 12.777200078480448\n",
      "\n",
      "Concept 5:\n",
      "Top 1 movie: Princess Bride, The (1987) (Action|Adventure|Comedy|Fantasy|Romance), Value: 15.970078335220803\n",
      "Top 2 movie: Stand by Me (1986) (Adventure|Drama), Value: 15.164031469071654\n",
      "Top 3 movie: Ghostbusters (a.k.a. Ghost Busters) (1984) (Action|Comedy|Sci-Fi), Value: 14.154118978101803\n",
      "\n"
     ]
    }
   ],
   "source": [
    "W, H, all_err = nonnegative_matrix_factorization(movie_user_matrix, 50, 1,100)\n",
    "#9724\n",
    "num_of_concepts = 5\n",
    "top_mov = 3\n",
    "print(\"NMF latent concepts - the W and H are SVD generated \")\n",
    "print_concepts(W, num_of_concepts, top_mov)\n",
    "\n",
    "print(\"********************************************************************************\")\n",
    "print(\"********************************************************************************\")\n",
    "\n",
    "#W, H, all_err = nonnegative_matrix_factorization(movie_user_matrix, 10,0,100)\n",
    "W, H, all_err = nonnegative_matrix_factorization(movie_user_matrix, 50, 0,100)\n",
    "#9724\n",
    "num_of_concepts = 5\n",
    "top_mov = 3\n",
    "print(\"NMF latent concepts - the W and H are randomly generated \")\n",
    "print_concepts(W, num_of_concepts, top_mov)\n"
   ]
  },
  {
   "cell_type": "raw",
   "metadata": {},
   "source": [
    "Using NMF with SVD initialization demonstrates strong genre coherence, whereas random initialization shows less coherence. Therefore, when comparing SVD with NMF using SVD initialization, NMF exhibits slightly better coherence."
   ]
  }
 ],
 "metadata": {
  "kernelspec": {
   "display_name": "Python 3 (ipykernel)",
   "language": "python",
   "name": "python3"
  },
  "language_info": {
   "codemirror_mode": {
    "name": "ipython",
    "version": 3
   },
   "file_extension": ".py",
   "mimetype": "text/x-python",
   "name": "python",
   "nbconvert_exporter": "python",
   "pygments_lexer": "ipython3",
   "version": "3.9.12"
  }
 },
 "nbformat": 4,
 "nbformat_minor": 4
}
